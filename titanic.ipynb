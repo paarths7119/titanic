{
 "cells": [
  {
   "cell_type": "code",
   "execution_count": 1,
   "metadata": {},
   "outputs": [
    {
     "name": "stdout",
     "output_type": "stream",
     "text": [
      "Random passenger survival probability: [0.94336797]\n"
     ]
    }
   ],
   "source": [
    "import numpy as np\n",
    "import pandas as pd\n",
    "\n",
    "titanic_data = pd.read_csv(\"titanic.csv\")\n",
    "\n",
    "titanic_data = titanic_data[['Survived', 'Pclass', 'Sex', 'Age', 'SibSp', 'Parch', 'Fare']]\n",
    "titanic_data['Sex'] = titanic_data['Sex'].map({'male': 0, 'female': 1})\n",
    "\n",
    "titanic_data.fillna(titanic_data.mean(), inplace=True)\n",
    "\n",
    "def sigmoid(z):\n",
    "    return 1 / (1 + np.exp(-z))\n",
    "\n",
    "def cost_function(X, y, theta):\n",
    "    m = len(y)\n",
    "    h = sigmoid(np.dot(X, theta))\n",
    "    cost = (1 / m) * np.sum(-y * np.log(h) - (1 - y) * np.log(1 - h))\n",
    "    return cost\n",
    "\n",
    "def gradient_descent(X, y, theta, alpha, iterations):\n",
    "    m = len(y)\n",
    "    for _ in range(iterations):\n",
    "        h = sigmoid(np.dot(X, theta))\n",
    "        gradient = np.dot(X.T, (h - y)) / m\n",
    "        theta -= alpha * gradient\n",
    "    return theta\n",
    "\n",
    "X = titanic_data.drop('Survived', axis=1)\n",
    "y = titanic_data['Survived']\n",
    "\n",
    "X = (X - X.mean()) / X.std()\n",
    "X.insert(0, 'Intercept', 1)\n",
    "\n",
    "X = X.values\n",
    "y = y.values.reshape(-1, 1)\n",
    "\n",
    "theta = np.zeros((X.shape[1], 1))\n",
    "\n",
    "alpha = 0.01\n",
    "iterations = 1000\n",
    "\n",
    "theta = gradient_descent(X, y, theta, alpha, iterations)\n",
    "\n",
    "def predict_survival(passenger):\n",
    "    passenger = (passenger - titanic_data.drop('Survived', axis=1).mean()) / titanic_data.drop('Survived', axis=1).std()\n",
    "    passenger = np.insert(passenger.values, 0, 1)\n",
    "    prediction = sigmoid(np.dot(passenger, theta))\n",
    "    return prediction\n",
    "\n",
    "random_passenger = np.random.randn(6)\n",
    "prediction = predict_survival(random_passenger)\n",
    "print(\"Random passenger survival probability:\", prediction)\n"
   ]
  }
 ],
 "metadata": {
  "kernelspec": {
   "display_name": "Python 3",
   "language": "python",
   "name": "python3"
  },
  "language_info": {
   "codemirror_mode": {
    "name": "ipython",
    "version": 3
   },
   "file_extension": ".py",
   "mimetype": "text/x-python",
   "name": "python",
   "nbconvert_exporter": "python",
   "pygments_lexer": "ipython3",
   "version": "3.10.7"
  }
 },
 "nbformat": 4,
 "nbformat_minor": 2
}
